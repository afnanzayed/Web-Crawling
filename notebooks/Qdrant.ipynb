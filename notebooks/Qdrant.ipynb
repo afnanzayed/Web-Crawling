{
 "cells": [
  {
   "cell_type": "code",
   "execution_count": 1,
   "metadata": {},
   "outputs": [
    {
     "name": "stdout",
     "output_type": "stream",
     "text": [
      "Requirement already satisfied: qdrant-client in /Users/afnanalamri/.pyenv/versions/3.10.6/envs/lewagon/lib/python3.10/site-packages (1.12.1)\n",
      "Requirement already satisfied: grpcio>=1.41.0 in /Users/afnanalamri/.pyenv/versions/3.10.6/envs/lewagon/lib/python3.10/site-packages (from qdrant-client) (1.68.1)\n",
      "Requirement already satisfied: grpcio-tools>=1.41.0 in /Users/afnanalamri/.pyenv/versions/3.10.6/envs/lewagon/lib/python3.10/site-packages (from qdrant-client) (1.68.1)\n",
      "Requirement already satisfied: httpx>=0.20.0 in /Users/afnanalamri/.pyenv/versions/3.10.6/envs/lewagon/lib/python3.10/site-packages (from httpx[http2]>=0.20.0->qdrant-client) (0.28.1)\n",
      "Requirement already satisfied: numpy>=1.21 in /Users/afnanalamri/.pyenv/versions/3.10.6/envs/lewagon/lib/python3.10/site-packages (from qdrant-client) (1.23.4)\n",
      "Requirement already satisfied: portalocker<3.0.0,>=2.7.0 in /Users/afnanalamri/.pyenv/versions/3.10.6/envs/lewagon/lib/python3.10/site-packages (from qdrant-client) (2.10.1)\n",
      "Requirement already satisfied: pydantic>=1.10.8 in /Users/afnanalamri/.pyenv/versions/3.10.6/envs/lewagon/lib/python3.10/site-packages (from qdrant-client) (2.10.3)\n",
      "Requirement already satisfied: urllib3<3,>=1.26.14 in /Users/afnanalamri/.pyenv/versions/3.10.6/envs/lewagon/lib/python3.10/site-packages (from qdrant-client) (2.2.3)\n",
      "Requirement already satisfied: protobuf<6.0dev,>=5.26.1 in /Users/afnanalamri/.pyenv/versions/3.10.6/envs/lewagon/lib/python3.10/site-packages (from grpcio-tools>=1.41.0->qdrant-client) (5.29.1)\n",
      "Requirement already satisfied: setuptools in /Users/afnanalamri/.pyenv/versions/3.10.6/envs/lewagon/lib/python3.10/site-packages (from grpcio-tools>=1.41.0->qdrant-client) (63.2.0)\n",
      "Requirement already satisfied: anyio in /Users/afnanalamri/.pyenv/versions/3.10.6/envs/lewagon/lib/python3.10/site-packages (from httpx>=0.20.0->httpx[http2]>=0.20.0->qdrant-client) (3.6.2)\n",
      "Requirement already satisfied: certifi in /Users/afnanalamri/.pyenv/versions/3.10.6/envs/lewagon/lib/python3.10/site-packages (from httpx>=0.20.0->httpx[http2]>=0.20.0->qdrant-client) (2022.9.24)\n",
      "Requirement already satisfied: httpcore==1.* in /Users/afnanalamri/.pyenv/versions/3.10.6/envs/lewagon/lib/python3.10/site-packages (from httpx>=0.20.0->httpx[http2]>=0.20.0->qdrant-client) (1.0.7)\n",
      "Requirement already satisfied: idna in /Users/afnanalamri/.pyenv/versions/3.10.6/envs/lewagon/lib/python3.10/site-packages (from httpx>=0.20.0->httpx[http2]>=0.20.0->qdrant-client) (2.10)\n",
      "Requirement already satisfied: h11<0.15,>=0.13 in /Users/afnanalamri/.pyenv/versions/3.10.6/envs/lewagon/lib/python3.10/site-packages (from httpcore==1.*->httpx>=0.20.0->httpx[http2]>=0.20.0->qdrant-client) (0.14.0)\n",
      "Requirement already satisfied: h2<5,>=3 in /Users/afnanalamri/.pyenv/versions/3.10.6/envs/lewagon/lib/python3.10/site-packages (from httpx[http2]>=0.20.0->qdrant-client) (3.2.0)\n",
      "Requirement already satisfied: annotated-types>=0.6.0 in /Users/afnanalamri/.pyenv/versions/3.10.6/envs/lewagon/lib/python3.10/site-packages (from pydantic>=1.10.8->qdrant-client) (0.7.0)\n",
      "Requirement already satisfied: pydantic-core==2.27.1 in /Users/afnanalamri/.pyenv/versions/3.10.6/envs/lewagon/lib/python3.10/site-packages (from pydantic>=1.10.8->qdrant-client) (2.27.1)\n",
      "Requirement already satisfied: typing-extensions>=4.12.2 in /Users/afnanalamri/.pyenv/versions/3.10.6/envs/lewagon/lib/python3.10/site-packages (from pydantic>=1.10.8->qdrant-client) (4.12.2)\n",
      "Requirement already satisfied: hyperframe<6,>=5.2.0 in /Users/afnanalamri/.pyenv/versions/3.10.6/envs/lewagon/lib/python3.10/site-packages (from h2<5,>=3->httpx[http2]>=0.20.0->qdrant-client) (5.2.0)\n",
      "Requirement already satisfied: hpack<4,>=3.0 in /Users/afnanalamri/.pyenv/versions/3.10.6/envs/lewagon/lib/python3.10/site-packages (from h2<5,>=3->httpx[http2]>=0.20.0->qdrant-client) (3.0.0)\n",
      "Requirement already satisfied: sniffio>=1.1 in /Users/afnanalamri/.pyenv/versions/3.10.6/envs/lewagon/lib/python3.10/site-packages (from anyio->httpx>=0.20.0->httpx[http2]>=0.20.0->qdrant-client) (1.3.0)\n",
      "\n",
      "\u001b[1m[\u001b[0m\u001b[34;49mnotice\u001b[0m\u001b[1;39;49m]\u001b[0m\u001b[39;49m A new release of pip is available: \u001b[0m\u001b[31;49m24.2\u001b[0m\u001b[39;49m -> \u001b[0m\u001b[32;49m24.3.1\u001b[0m\n",
      "\u001b[1m[\u001b[0m\u001b[34;49mnotice\u001b[0m\u001b[1;39;49m]\u001b[0m\u001b[39;49m To update, run: \u001b[0m\u001b[32;49mpip install --upgrade pip\u001b[0m\n"
     ]
    }
   ],
   "source": [
    "# Install Qdrant client library\n",
    "!pip install qdrant-client\n"
   ]
  },
  {
   "cell_type": "code",
   "execution_count": 2,
   "metadata": {},
   "outputs": [
    {
     "name": "stdout",
     "output_type": "stream",
     "text": [
      "b573fb78e2501563369071c81b546708188a59ef88c77dfa9b1fca2a7093511b\n",
      "docker: Error response from daemon: driver failed programming external connectivity on endpoint agitated_pasteur (f4093b053818b6deea0482eb7931b90378d087568e01bfd3970f104f51f6b3d9): Bind for 0.0.0.0:6333 failed: port is already allocated.\n"
     ]
    }
   ],
   "source": [
    "!docker run -p 6333:6333 -d qdrant/qdrant\n"
   ]
  },
  {
   "cell_type": "code",
   "execution_count": 34,
   "metadata": {},
   "outputs": [],
   "source": [
    "from qdrant_client import QdrantClient\n",
    "from qdrant_client.models import Distance, VectorParams\n",
    "import pandas as pd\n",
    "from qdrant_client.models import PointStruct\n"
   ]
  },
  {
   "cell_type": "markdown",
   "metadata": {},
   "source": [
    "## Connect to Qdrant"
   ]
  },
  {
   "cell_type": "code",
   "execution_count": 22,
   "metadata": {},
   "outputs": [
    {
     "name": "stdout",
     "output_type": "stream",
     "text": [
      "Qdrant is running. Collections: collections=[CollectionDescription(name='contractors')]\n"
     ]
    }
   ],
   "source": [
    "# Initialize the Qdrant client\n",
    "client = QdrantClient(host=\"127.0.0.1\", port=6333)\n",
    "\n",
    "# Check server connection\n",
    "try:\n",
    "    response = client.get_collections()\n",
    "    print(\"Qdrant is running. Collections:\", response)\n",
    "except Exception as e:\n",
    "    print(f\"Error connecting to Qdrant: {e}\")\n"
   ]
  },
  {
   "cell_type": "markdown",
   "metadata": {},
   "source": [
    "## Process Data Using Hugging Face Transformers"
   ]
  },
  {
   "cell_type": "code",
   "execution_count": 10,
   "metadata": {},
   "outputs": [
    {
     "data": {
      "application/vnd.jupyter.widget-view+json": {
       "model_id": "364306cc8bf3465aae5567a6efe025ea",
       "version_major": 2,
       "version_minor": 0
      },
      "text/plain": [
       "Downloading tokenizer_config.json:   0%|          | 0.00/350 [00:00<?, ?B/s]"
      ]
     },
     "metadata": {},
     "output_type": "display_data"
    },
    {
     "data": {
      "application/vnd.jupyter.widget-view+json": {
       "model_id": "75f6e33987bf400486738d779c18427e",
       "version_major": 2,
       "version_minor": 0
      },
      "text/plain": [
       "Downloading vocab.txt:   0%|          | 0.00/232k [00:00<?, ?B/s]"
      ]
     },
     "metadata": {},
     "output_type": "display_data"
    },
    {
     "data": {
      "application/vnd.jupyter.widget-view+json": {
       "model_id": "d4d1063f27554b18862c9a6753a0b4b0",
       "version_major": 2,
       "version_minor": 0
      },
      "text/plain": [
       "Downloading tokenizer.json:   0%|          | 0.00/466k [00:00<?, ?B/s]"
      ]
     },
     "metadata": {},
     "output_type": "display_data"
    },
    {
     "data": {
      "application/vnd.jupyter.widget-view+json": {
       "model_id": "3ecc458ca8ed4d3c8a0a8f9fda036778",
       "version_major": 2,
       "version_minor": 0
      },
      "text/plain": [
       "Downloading (…)cial_tokens_map.json:   0%|          | 0.00/112 [00:00<?, ?B/s]"
      ]
     },
     "metadata": {},
     "output_type": "display_data"
    },
    {
     "data": {
      "application/vnd.jupyter.widget-view+json": {
       "model_id": "2630f408eae546359068a6fd596840c0",
       "version_major": 2,
       "version_minor": 0
      },
      "text/plain": [
       "Downloading config.json:   0%|          | 0.00/612 [00:00<?, ?B/s]"
      ]
     },
     "metadata": {},
     "output_type": "display_data"
    },
    {
     "data": {
      "application/vnd.jupyter.widget-view+json": {
       "model_id": "b016eb9e52154c6982df0d66304bace1",
       "version_major": 2,
       "version_minor": 0
      },
      "text/plain": [
       "Downloading model.safetensors:   0%|          | 0.00/90.9M [00:00<?, ?B/s]"
      ]
     },
     "metadata": {},
     "output_type": "display_data"
    }
   ],
   "source": [
    "from transformers import AutoTokenizer, AutoModel\n",
    "\n",
    "model_name = \"sentence-transformers/all-MiniLM-L6-v2\"\n",
    "tokenizer = AutoTokenizer.from_pretrained(model_name)\n",
    "model = AutoModel.from_pretrained(model_name)\n",
    "\n",
    "def generate_embedding(text):\n",
    "    inputs = tokenizer(text, return_tensors=\"pt\")\n",
    "    outputs = model(**inputs)\n",
    "    return outputs.last_hidden_state.mean(dim=1).squeeze().tolist()\n"
   ]
  },
  {
   "cell_type": "code",
   "execution_count": null,
   "metadata": {},
   "outputs": [],
   "source": [
    "df = pd.read_csv(\"/Users/afnanalamri/Desktop/MyProject/LeapAI/WebCrawlingTask/raw_data/filtered_contractors_data.csv\")\n",
    "\n",
    "df['Combined_Text'] = df[['Company Name', 'Company Size', 'Interests', 'City', 'Address']].fillna('').agg(' '.join, axis=1)\n",
    "\n",
    "def generate_embedding(text):\n",
    "    inputs = tokenizer(text, return_tensors=\"pt\", truncation=True, max_length=512)\n",
    "    outputs = model(**inputs)\n",
    "    return outputs.last_hidden_state.mean(dim=1).squeeze().tolist()\n",
    "\n",
    "df['embedding'] = df['Combined_Text'].apply(generate_embedding)\n",
    "\n",
    "# Save the updated DataFrame\n",
    "df.to_csv(\"/Users/afnanalamri/Desktop/MyProject/LeapAI/WebCrawlingTask/raw_data/contractors_with_embeddings.csv\", index=False)\n"
   ]
  },
  {
   "cell_type": "code",
   "execution_count": null,
   "metadata": {},
   "outputs": [
    {
     "data": {
      "text/html": [
       "<div>\n",
       "<style scoped>\n",
       "    .dataframe tbody tr th:only-of-type {\n",
       "        vertical-align: middle;\n",
       "    }\n",
       "\n",
       "    .dataframe tbody tr th {\n",
       "        vertical-align: top;\n",
       "    }\n",
       "\n",
       "    .dataframe thead th {\n",
       "        text-align: right;\n",
       "    }\n",
       "</style>\n",
       "<table border=\"1\" class=\"dataframe\">\n",
       "  <thead>\n",
       "    <tr style=\"text-align: right;\">\n",
       "      <th></th>\n",
       "      <th>Company Name</th>\n",
       "      <th>Membership Number</th>\n",
       "      <th>Company Size</th>\n",
       "      <th>Organization Email</th>\n",
       "      <th>Address</th>\n",
       "      <th>City</th>\n",
       "      <th>Region</th>\n",
       "      <th>Interests</th>\n",
       "      <th>Combined_Text</th>\n",
       "      <th>embedding</th>\n",
       "    </tr>\n",
       "  </thead>\n",
       "  <tbody>\n",
       "    <tr>\n",
       "      <th>0</th>\n",
       "      <td>Al-Wessam Contracting Company</td>\n",
       "      <td>106110611</td>\n",
       "      <td>Small Company Size</td>\n",
       "      <td>Alwessam7@Gmail.Com</td>\n",
       "      <td>Al Wessam Contracting Company</td>\n",
       "      <td>BILJURASHI</td>\n",
       "      <td>Bahah</td>\n",
       "      <td>Mining support services, Oil and natural gas e...</td>\n",
       "      <td>Al-Wessam Contracting Company Small Company Si...</td>\n",
       "      <td>[-0.02744017168879509, -0.03267991170287132, 0...</td>\n",
       "    </tr>\n",
       "    <tr>\n",
       "      <th>1</th>\n",
       "      <td>Inmayoun Contracting Company</td>\n",
       "      <td>215421544</td>\n",
       "      <td>Medium Company Size</td>\n",
       "      <td>Inmayoun@Gmail.Com</td>\n",
       "      <td>abdelaziz</td>\n",
       "      <td>RIYADH</td>\n",
       "      <td>Riyadh</td>\n",
       "      <td>Construction of buildings, Construction of bui...</td>\n",
       "      <td>Inmayoun Contracting Company Medium Company Si...</td>\n",
       "      <td>[0.027565114200115204, -0.07196860015392303, 0...</td>\n",
       "    </tr>\n",
       "    <tr>\n",
       "      <th>2</th>\n",
       "      <td>Awared General Contracting Company</td>\n",
       "      <td>160916095</td>\n",
       "      <td>Small Company Size</td>\n",
       "      <td>Fared@Fared-Est.Com</td>\n",
       "      <td>Riyadh - alezdehar District -</td>\n",
       "      <td>RIYADH</td>\n",
       "      <td>Riyadh</td>\n",
       "      <td>Construction of buildings, Construction of bui...</td>\n",
       "      <td>Awared General Contracting Company Small Compa...</td>\n",
       "      <td>[0.06581185013055801, -0.11605323851108551, 0....</td>\n",
       "    </tr>\n",
       "    <tr>\n",
       "      <th>3</th>\n",
       "      <td>acn solutions for contracting</td>\n",
       "      <td>446844684</td>\n",
       "      <td>Very Small Company Size</td>\n",
       "      <td>Alwa7ed@Hotmail.Com</td>\n",
       "      <td>jeddah al shiraa dis.</td>\n",
       "      <td>JEDDAH</td>\n",
       "      <td>Makkah</td>\n",
       "      <td>Waste collection, treatment &amp; disposal activit...</td>\n",
       "      <td>acn solutions for contracting Very Small Compa...</td>\n",
       "      <td>[-0.02718176506459713, -0.07887285202741623, 0...</td>\n",
       "    </tr>\n",
       "    <tr>\n",
       "      <th>4</th>\n",
       "      <td>Ratel Al Sharq Contracting Company</td>\n",
       "      <td>101010104</td>\n",
       "      <td>Small Company Size</td>\n",
       "      <td>Adel_77@Hotmail.Com</td>\n",
       "      <td>Riyadh - Al Narjis District - Anas Bin Malik Road</td>\n",
       "      <td>RIYADH</td>\n",
       "      <td>Riyadh</td>\n",
       "      <td>Construction of buildings, Construction of bui...</td>\n",
       "      <td>Ratel Al Sharq Contracting Company Small Compa...</td>\n",
       "      <td>[0.0501224510371685, 0.037430986762046814, -0....</td>\n",
       "    </tr>\n",
       "  </tbody>\n",
       "</table>\n",
       "</div>"
      ],
      "text/plain": [
       "                         Company Name  Membership Number  \\\n",
       "0       Al-Wessam Contracting Company          106110611   \n",
       "1        Inmayoun Contracting Company          215421544   \n",
       "2  Awared General Contracting Company          160916095   \n",
       "3       acn solutions for contracting          446844684   \n",
       "4  Ratel Al Sharq Contracting Company          101010104   \n",
       "\n",
       "              Company Size   Organization Email  \\\n",
       "0       Small Company Size  Alwessam7@Gmail.Com   \n",
       "1      Medium Company Size   Inmayoun@Gmail.Com   \n",
       "2       Small Company Size  Fared@Fared-Est.Com   \n",
       "3  Very Small Company Size  Alwa7ed@Hotmail.Com   \n",
       "4       Small Company Size  Adel_77@Hotmail.Com   \n",
       "\n",
       "                                             Address        City  Region  \\\n",
       "0                      Al Wessam Contracting Company  BILJURASHI   Bahah   \n",
       "1                                          abdelaziz      RIYADH  Riyadh   \n",
       "2                      Riyadh - alezdehar District -      RIYADH  Riyadh   \n",
       "3                              jeddah al shiraa dis.      JEDDAH  Makkah   \n",
       "4  Riyadh - Al Narjis District - Anas Bin Malik Road      RIYADH  Riyadh   \n",
       "\n",
       "                                           Interests  \\\n",
       "0  Mining support services, Oil and natural gas e...   \n",
       "1  Construction of buildings, Construction of bui...   \n",
       "2  Construction of buildings, Construction of bui...   \n",
       "3  Waste collection, treatment & disposal activit...   \n",
       "4  Construction of buildings, Construction of bui...   \n",
       "\n",
       "                                       Combined_Text  \\\n",
       "0  Al-Wessam Contracting Company Small Company Si...   \n",
       "1  Inmayoun Contracting Company Medium Company Si...   \n",
       "2  Awared General Contracting Company Small Compa...   \n",
       "3  acn solutions for contracting Very Small Compa...   \n",
       "4  Ratel Al Sharq Contracting Company Small Compa...   \n",
       "\n",
       "                                           embedding  \n",
       "0  [-0.02744017168879509, -0.03267991170287132, 0...  \n",
       "1  [0.027565114200115204, -0.07196860015392303, 0...  \n",
       "2  [0.06581185013055801, -0.11605323851108551, 0....  \n",
       "3  [-0.02718176506459713, -0.07887285202741623, 0...  \n",
       "4  [0.0501224510371685, 0.037430986762046814, -0....  "
      ]
     },
     "execution_count": 18,
     "metadata": {},
     "output_type": "execute_result"
    }
   ],
   "source": [
    "df.head()"
   ]
  },
  {
   "cell_type": "markdown",
   "metadata": {},
   "source": [
    "## Store data in Qdrant"
   ]
  },
  {
   "cell_type": "code",
   "execution_count": null,
   "metadata": {},
   "outputs": [
    {
     "name": "stdout",
     "output_type": "stream",
     "text": [
      "Embeddings uploaded successfully!\n"
     ]
    }
   ],
   "source": [
    "# Create a new collection in Qdrant\n",
    "client.recreate_collection(\n",
    "    collection_name=\"contractors\",\n",
    "    vectors_config=VectorParams(\n",
    "        size=384,\n",
    "        distance=Distance.COSINE\n",
    "    )\n",
    ")\n",
    "\n",
    "#Preparing points to upload to Qdrant\n",
    "points = [\n",
    "    PointStruct(\n",
    "        id=i,\n",
    "        vector=row['embedding'],\n",
    "        payload={\n",
    "            \"Company Name\": row[\"Company Name\"],\n",
    "            \"Company Size\": row[\"Company Size\"],\n",
    "            \"Interests\": row[\"Interests\"],\n",
    "            \"City\": row[\"City\"],\n",
    "            \"Address\": row[\"Address\"],\n",
    "        }\n",
    "    )\n",
    "    for i, row in df.iterrows()\n",
    "]\n",
    "\n",
    "# Upload points to Qdrant\n",
    "client.upsert(collection_name=\"contractors\", points=points)\n",
    "\n",
    "print(\"Embeddings uploaded successfully!\")\n"
   ]
  },
  {
   "cell_type": "code",
   "execution_count": 33,
   "metadata": {},
   "outputs": [
    {
     "name": "stdout",
     "output_type": "stream",
     "text": [
      "<class 'list'>\n"
     ]
    }
   ],
   "source": [
    "print(type(df['embedding'].iloc[0]))\n"
   ]
  },
  {
   "cell_type": "code",
   "execution_count": null,
   "metadata": {},
   "outputs": [],
   "source": []
  }
 ],
 "metadata": {
  "kernelspec": {
   "display_name": "lewagon",
   "language": "python",
   "name": "python3"
  },
  "language_info": {
   "codemirror_mode": {
    "name": "ipython",
    "version": 3
   },
   "file_extension": ".py",
   "mimetype": "text/x-python",
   "name": "python",
   "nbconvert_exporter": "python",
   "pygments_lexer": "ipython3",
   "version": "3.10.6"
  }
 },
 "nbformat": 4,
 "nbformat_minor": 2
}
