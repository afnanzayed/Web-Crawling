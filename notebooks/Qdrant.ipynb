{
 "cells": [
  {
   "cell_type": "code",
   "execution_count": 4,
   "metadata": {},
   "outputs": [
    {
     "name": "stdout",
     "output_type": "stream",
     "text": [
      "Requirement already satisfied: qdrant-client in /Users/afnanalamri/.pyenv/versions/3.10.6/envs/lewagon/lib/python3.10/site-packages (1.12.1)\n",
      "Requirement already satisfied: grpcio>=1.41.0 in /Users/afnanalamri/.pyenv/versions/3.10.6/envs/lewagon/lib/python3.10/site-packages (from qdrant-client) (1.68.1)\n",
      "Requirement already satisfied: grpcio-tools>=1.41.0 in /Users/afnanalamri/.pyenv/versions/3.10.6/envs/lewagon/lib/python3.10/site-packages (from qdrant-client) (1.68.1)\n",
      "Requirement already satisfied: httpx>=0.20.0 in /Users/afnanalamri/.pyenv/versions/3.10.6/envs/lewagon/lib/python3.10/site-packages (from httpx[http2]>=0.20.0->qdrant-client) (0.28.1)\n",
      "Requirement already satisfied: numpy>=1.21 in /Users/afnanalamri/.pyenv/versions/3.10.6/envs/lewagon/lib/python3.10/site-packages (from qdrant-client) (1.23.4)\n",
      "Requirement already satisfied: portalocker<3.0.0,>=2.7.0 in /Users/afnanalamri/.pyenv/versions/3.10.6/envs/lewagon/lib/python3.10/site-packages (from qdrant-client) (2.10.1)\n",
      "Requirement already satisfied: pydantic>=1.10.8 in /Users/afnanalamri/.pyenv/versions/3.10.6/envs/lewagon/lib/python3.10/site-packages (from qdrant-client) (2.10.3)\n",
      "Requirement already satisfied: urllib3<3,>=1.26.14 in /Users/afnanalamri/.pyenv/versions/3.10.6/envs/lewagon/lib/python3.10/site-packages (from qdrant-client) (2.2.3)\n",
      "Collecting protobuf<6.0dev,>=5.26.1 (from grpcio-tools>=1.41.0->qdrant-client)\n",
      "  Using cached protobuf-5.29.1-cp38-abi3-macosx_10_9_universal2.whl.metadata (592 bytes)\n",
      "Requirement already satisfied: setuptools in /Users/afnanalamri/.pyenv/versions/3.10.6/envs/lewagon/lib/python3.10/site-packages (from grpcio-tools>=1.41.0->qdrant-client) (63.2.0)\n",
      "Requirement already satisfied: anyio in /Users/afnanalamri/.pyenv/versions/3.10.6/envs/lewagon/lib/python3.10/site-packages (from httpx>=0.20.0->httpx[http2]>=0.20.0->qdrant-client) (3.6.2)\n",
      "Requirement already satisfied: certifi in /Users/afnanalamri/.pyenv/versions/3.10.6/envs/lewagon/lib/python3.10/site-packages (from httpx>=0.20.0->httpx[http2]>=0.20.0->qdrant-client) (2022.9.24)\n",
      "Requirement already satisfied: httpcore==1.* in /Users/afnanalamri/.pyenv/versions/3.10.6/envs/lewagon/lib/python3.10/site-packages (from httpx>=0.20.0->httpx[http2]>=0.20.0->qdrant-client) (1.0.7)\n",
      "Requirement already satisfied: idna in /Users/afnanalamri/.pyenv/versions/3.10.6/envs/lewagon/lib/python3.10/site-packages (from httpx>=0.20.0->httpx[http2]>=0.20.0->qdrant-client) (2.10)\n",
      "Requirement already satisfied: h11<0.15,>=0.13 in /Users/afnanalamri/.pyenv/versions/3.10.6/envs/lewagon/lib/python3.10/site-packages (from httpcore==1.*->httpx>=0.20.0->httpx[http2]>=0.20.0->qdrant-client) (0.14.0)\n",
      "Requirement already satisfied: h2<5,>=3 in /Users/afnanalamri/.pyenv/versions/3.10.6/envs/lewagon/lib/python3.10/site-packages (from httpx[http2]>=0.20.0->qdrant-client) (3.2.0)\n",
      "Requirement already satisfied: annotated-types>=0.6.0 in /Users/afnanalamri/.pyenv/versions/3.10.6/envs/lewagon/lib/python3.10/site-packages (from pydantic>=1.10.8->qdrant-client) (0.7.0)\n",
      "Requirement already satisfied: pydantic-core==2.27.1 in /Users/afnanalamri/.pyenv/versions/3.10.6/envs/lewagon/lib/python3.10/site-packages (from pydantic>=1.10.8->qdrant-client) (2.27.1)\n",
      "Requirement already satisfied: typing-extensions>=4.12.2 in /Users/afnanalamri/.pyenv/versions/3.10.6/envs/lewagon/lib/python3.10/site-packages (from pydantic>=1.10.8->qdrant-client) (4.12.2)\n",
      "Requirement already satisfied: hyperframe<6,>=5.2.0 in /Users/afnanalamri/.pyenv/versions/3.10.6/envs/lewagon/lib/python3.10/site-packages (from h2<5,>=3->httpx[http2]>=0.20.0->qdrant-client) (5.2.0)\n",
      "Requirement already satisfied: hpack<4,>=3.0 in /Users/afnanalamri/.pyenv/versions/3.10.6/envs/lewagon/lib/python3.10/site-packages (from h2<5,>=3->httpx[http2]>=0.20.0->qdrant-client) (3.0.0)\n",
      "Requirement already satisfied: sniffio>=1.1 in /Users/afnanalamri/.pyenv/versions/3.10.6/envs/lewagon/lib/python3.10/site-packages (from anyio->httpx>=0.20.0->httpx[http2]>=0.20.0->qdrant-client) (1.3.0)\n",
      "Using cached protobuf-5.29.1-cp38-abi3-macosx_10_9_universal2.whl (417 kB)\n",
      "Installing collected packages: protobuf\n",
      "  Attempting uninstall: protobuf\n",
      "    Found existing installation: protobuf 3.20.3\n",
      "    Uninstalling protobuf-3.20.3:\n",
      "      Successfully uninstalled protobuf-3.20.3\n",
      "\u001b[31mERROR: pip's dependency resolver does not currently take into account all the packages that are installed. This behaviour is the source of the following dependency conflicts.\n",
      "google-api-core 2.10.2 requires protobuf!=3.20.0,!=3.20.1,!=4.21.0,!=4.21.1,!=4.21.2,!=4.21.3,!=4.21.4,!=4.21.5,<5.0.0dev,>=3.19.5, but you have protobuf 5.29.1 which is incompatible.\n",
      "google-cloud-bigquery 2.34.4 requires protobuf<4.0.0dev,>=3.12.0, but you have protobuf 5.29.1 which is incompatible.\n",
      "google-cloud-bigquery-storage 2.16.2 requires protobuf!=3.20.0,!=3.20.1,!=4.21.0,!=4.21.1,!=4.21.2,!=4.21.3,!=4.21.4,!=4.21.5,<5.0.0dev,>=3.19.5, but you have protobuf 5.29.1 which is incompatible.\n",
      "googleapis-common-protos 1.56.4 requires protobuf<5.0.0dev,>=3.15.0, but you have protobuf 5.29.1 which is incompatible.\n",
      "proto-plus 1.22.1 requires protobuf<5.0.0dev,>=3.19.0, but you have protobuf 5.29.1 which is incompatible.\n",
      "streamlit 1.11.1 requires protobuf<4,>=3.12, but you have protobuf 5.29.1 which is incompatible.\n",
      "tensorboard 2.10.1 requires protobuf<3.20,>=3.9.2, but you have protobuf 5.29.1 which is incompatible.\n",
      "tensorflow 2.10.0 requires protobuf<3.20,>=3.9.2, but you have protobuf 5.29.1 which is incompatible.\n",
      "tensorflow-metadata 1.10.0 requires protobuf<4,>=3.13, but you have protobuf 5.29.1 which is incompatible.\u001b[0m\u001b[31m\n",
      "\u001b[0mSuccessfully installed protobuf-5.29.1\n",
      "\n",
      "\u001b[1m[\u001b[0m\u001b[34;49mnotice\u001b[0m\u001b[1;39;49m]\u001b[0m\u001b[39;49m A new release of pip is available: \u001b[0m\u001b[31;49m24.2\u001b[0m\u001b[39;49m -> \u001b[0m\u001b[32;49m24.3.1\u001b[0m\n",
      "\u001b[1m[\u001b[0m\u001b[34;49mnotice\u001b[0m\u001b[1;39;49m]\u001b[0m\u001b[39;49m To update, run: \u001b[0m\u001b[32;49mpip install --upgrade pip\u001b[0m\n"
     ]
    }
   ],
   "source": [
    "# Install Qdrant client library\n",
    "!pip install qdrant-client\n"
   ]
  },
  {
   "cell_type": "code",
   "execution_count": 5,
   "metadata": {},
   "outputs": [
    {
     "name": "stdout",
     "output_type": "stream",
     "text": [
      "6854fcf7f0d86c7a4cdff7695b4c8fed8a027dc321f21b40f6ec115e86b71d78\n"
     ]
    }
   ],
   "source": [
    "!docker run -p 6333:6333 -d qdrant/qdrant\n"
   ]
  },
  {
   "cell_type": "code",
   "execution_count": 6,
   "metadata": {},
   "outputs": [],
   "source": [
    "from qdrant_client import QdrantClient\n",
    "from qdrant_client.models import Distance, VectorParams\n",
    "import pandas as pd\n",
    "from qdrant_client.models import PointStruct\n",
    "import os\n"
   ]
  },
  {
   "cell_type": "markdown",
   "metadata": {},
   "source": [
    "## Connect to Qdrant"
   ]
  },
  {
   "cell_type": "code",
   "execution_count": 7,
   "metadata": {},
   "outputs": [
    {
     "name": "stdout",
     "output_type": "stream",
     "text": [
      "Qdrant is running. Collections: collections=[]\n"
     ]
    }
   ],
   "source": [
    "# Initialize the Qdrant client\n",
    "client = QdrantClient(host=\"127.0.0.1\", port=6333)\n",
    "\n",
    "# Check server connection\n",
    "try:\n",
    "    response = client.get_collections()\n",
    "    print(\"Qdrant is running. Collections:\", response)\n",
    "except Exception as e:\n",
    "    print(f\"Error connecting to Qdrant: {e}\")\n"
   ]
  },
  {
   "cell_type": "markdown",
   "metadata": {},
   "source": [
    "## Process Data Using Hugging Face Transformers"
   ]
  },
  {
   "cell_type": "code",
   "execution_count": 8,
   "metadata": {},
   "outputs": [
    {
     "name": "stderr",
     "output_type": "stream",
     "text": [
      "2024-12-17 14:39:55.996052: I tensorflow/core/platform/cpu_feature_guard.cc:193] This TensorFlow binary is optimized with oneAPI Deep Neural Network Library (oneDNN) to use the following CPU instructions in performance-critical operations:  AVX2 FMA\n",
      "To enable them in other operations, rebuild TensorFlow with the appropriate compiler flags.\n"
     ]
    }
   ],
   "source": [
    "from transformers import AutoTokenizer, AutoModel\n",
    "\n",
    "model_name = \"sentence-transformers/all-MiniLM-L6-v2\"\n",
    "tokenizer = AutoTokenizer.from_pretrained(model_name)\n",
    "model = AutoModel.from_pretrained(model_name)\n",
    "\n",
    "def generate_embedding(text):\n",
    "    inputs = tokenizer(text, return_tensors=\"pt\")\n",
    "    outputs = model(**inputs)\n",
    "    return outputs.last_hidden_state.mean(dim=1).squeeze().tolist()\n"
   ]
  },
  {
   "cell_type": "code",
   "execution_count": 9,
   "metadata": {},
   "outputs": [],
   "source": [
    "# df = pd.read_csv(\"/Users/afnanalamri/Desktop/MyProject/LeapAI/WebCrawlingTask/raw_data/filtered_contractors_data.csv\")\n",
    "\n",
    "# Specify the relative path to the data file\n",
    "current_dir = os.path.dirname(os.path.abspath(__file__)) if '__file__' in globals() else os.getcwd()\n",
    "data_path = os.path.join(current_dir, \"raw_data\", \"filtered_contractors_data.csv\")\n",
    "\n",
    "# Read file using relative path\n",
    "df = pd.read_csv(data_path)\n",
    "\n",
    "# print(\"Data loaded successfully!\")\n",
    "# print(df.head())\n",
    "\n",
    "\n",
    "\n",
    "df['Combined_Text'] = df[['Company Name', 'Company Size', 'Interests', 'City', 'Address']].fillna('').agg(' '.join, axis=1)\n",
    "\n",
    "def generate_embedding(text):\n",
    "    inputs = tokenizer(text, return_tensors=\"pt\", truncation=True, max_length=512)\n",
    "    outputs = model(**inputs)\n",
    "    return outputs.last_hidden_state.mean(dim=1).squeeze().tolist()\n",
    "\n",
    "df['embedding'] = df['Combined_Text'].apply(generate_embedding)\n",
    "\n",
    "# # Save the updated DataFrame\n",
    "# df.to_csv(\"/Users/afnanalamri/Desktop/MyProject/LeapAI/WebCrawlingTask/raw_data/contractors_with_embeddings.csv\", index=False)\n",
    "\n",
    "# Save the updated DataFrame using a relative path\n",
    "output_path = os.path.join(current_dir, \"raw_data\", \"contractors_with_embeddings.csv\")\n",
    "df.to_csv(output_path, index=False)\n"
   ]
  },
  {
   "cell_type": "code",
   "execution_count": 10,
   "metadata": {},
   "outputs": [
    {
     "data": {
      "text/html": [
       "<div>\n",
       "<style scoped>\n",
       "    .dataframe tbody tr th:only-of-type {\n",
       "        vertical-align: middle;\n",
       "    }\n",
       "\n",
       "    .dataframe tbody tr th {\n",
       "        vertical-align: top;\n",
       "    }\n",
       "\n",
       "    .dataframe thead th {\n",
       "        text-align: right;\n",
       "    }\n",
       "</style>\n",
       "<table border=\"1\" class=\"dataframe\">\n",
       "  <thead>\n",
       "    <tr style=\"text-align: right;\">\n",
       "      <th></th>\n",
       "      <th>Company Name</th>\n",
       "      <th>Membership Number</th>\n",
       "      <th>Company Size</th>\n",
       "      <th>Organization Email</th>\n",
       "      <th>Address</th>\n",
       "      <th>City</th>\n",
       "      <th>Region</th>\n",
       "      <th>Interests</th>\n",
       "      <th>Combined_Text</th>\n",
       "      <th>embedding</th>\n",
       "    </tr>\n",
       "  </thead>\n",
       "  <tbody>\n",
       "    <tr>\n",
       "      <th>0</th>\n",
       "      <td>Gulf Pioneers Trading Company</td>\n",
       "      <td>280728074</td>\n",
       "      <td>Medium Company Size</td>\n",
       "      <td>Acc@Gpksa.Com</td>\n",
       "      <td>ALtahlia Street\\r\\nOlaya\\r\\nRiyadh\\r\\n54355\\r\\...</td>\n",
       "      <td>RIYADH</td>\n",
       "      <td>Riyadh</td>\n",
       "      <td>Construction of buildings, Construction of bui...</td>\n",
       "      <td>Gulf Pioneers Trading Company Medium Company S...</td>\n",
       "      <td>[0.04954048991203308, 0.03295160084962845, 0.0...</td>\n",
       "    </tr>\n",
       "    <tr>\n",
       "      <th>1</th>\n",
       "      <td>Ratel Al Sharq Contracting Company</td>\n",
       "      <td>101010104</td>\n",
       "      <td>Small Company Size</td>\n",
       "      <td>Adel_77@Hotmail.Com</td>\n",
       "      <td>Riyadh - Al Narjis District - Anas Bin Malik Road</td>\n",
       "      <td>RIYADH</td>\n",
       "      <td>Riyadh</td>\n",
       "      <td>Construction of buildings, Construction of bui...</td>\n",
       "      <td>Ratel Al Sharq Contracting Company Small Compa...</td>\n",
       "      <td>[0.0501224510371685, 0.037430986762046814, -0....</td>\n",
       "    </tr>\n",
       "    <tr>\n",
       "      <th>2</th>\n",
       "      <td>Bunoon Wa Funoon Contracting Co.</td>\n",
       "      <td>138113818</td>\n",
       "      <td>Small Company Size</td>\n",
       "      <td>Info@Bfconst.Com</td>\n",
       "      <td>6394, Al Olaya\\r\\n3891, Al Olaya Dist.\\r\\nRIYA...</td>\n",
       "      <td>RIYADH</td>\n",
       "      <td>Riyadh</td>\n",
       "      <td>Construction of buildings, Construction of bui...</td>\n",
       "      <td>Bunoon Wa Funoon Contracting Co. Small Company...</td>\n",
       "      <td>[0.12054764479398727, 0.0346849262714386, 0.08...</td>\n",
       "    </tr>\n",
       "    <tr>\n",
       "      <th>3</th>\n",
       "      <td>Al-Wessam Contracting Company</td>\n",
       "      <td>106110611</td>\n",
       "      <td>Small Company Size</td>\n",
       "      <td>Alwessam7@Gmail.Com</td>\n",
       "      <td>Al Wessam Contracting Company</td>\n",
       "      <td>BILJURASHI</td>\n",
       "      <td>Bahah</td>\n",
       "      <td>Mining support services, Oil and natural gas e...</td>\n",
       "      <td>Al-Wessam Contracting Company Small Company Si...</td>\n",
       "      <td>[-0.02744017168879509, -0.03267991170287132, 0...</td>\n",
       "    </tr>\n",
       "    <tr>\n",
       "      <th>4</th>\n",
       "      <td>TAKWEEN AND CONSTRUCTION</td>\n",
       "      <td>438043804</td>\n",
       "      <td>Very Small Company Size</td>\n",
       "      <td>B2B@Tbco.Com.Sa</td>\n",
       "      <td>Not Available</td>\n",
       "      <td>RIYADH</td>\n",
       "      <td>Riyadh</td>\n",
       "      <td>Construction of buildings, Construction of bui...</td>\n",
       "      <td>TAKWEEN AND CONSTRUCTION Very Small Company Si...</td>\n",
       "      <td>[0.04318187013268471, -0.059580229222774506, 0...</td>\n",
       "    </tr>\n",
       "  </tbody>\n",
       "</table>\n",
       "</div>"
      ],
      "text/plain": [
       "                         Company Name  Membership Number  \\\n",
       "0       Gulf Pioneers Trading Company          280728074   \n",
       "1  Ratel Al Sharq Contracting Company          101010104   \n",
       "2    Bunoon Wa Funoon Contracting Co.          138113818   \n",
       "3       Al-Wessam Contracting Company          106110611   \n",
       "4            TAKWEEN AND CONSTRUCTION          438043804   \n",
       "\n",
       "              Company Size   Organization Email  \\\n",
       "0      Medium Company Size        Acc@Gpksa.Com   \n",
       "1       Small Company Size  Adel_77@Hotmail.Com   \n",
       "2       Small Company Size     Info@Bfconst.Com   \n",
       "3       Small Company Size  Alwessam7@Gmail.Com   \n",
       "4  Very Small Company Size      B2B@Tbco.Com.Sa   \n",
       "\n",
       "                                             Address        City  Region  \\\n",
       "0  ALtahlia Street\\r\\nOlaya\\r\\nRiyadh\\r\\n54355\\r\\...      RIYADH  Riyadh   \n",
       "1  Riyadh - Al Narjis District - Anas Bin Malik Road      RIYADH  Riyadh   \n",
       "2  6394, Al Olaya\\r\\n3891, Al Olaya Dist.\\r\\nRIYA...      RIYADH  Riyadh   \n",
       "3                      Al Wessam Contracting Company  BILJURASHI   Bahah   \n",
       "4                                      Not Available      RIYADH  Riyadh   \n",
       "\n",
       "                                           Interests  \\\n",
       "0  Construction of buildings, Construction of bui...   \n",
       "1  Construction of buildings, Construction of bui...   \n",
       "2  Construction of buildings, Construction of bui...   \n",
       "3  Mining support services, Oil and natural gas e...   \n",
       "4  Construction of buildings, Construction of bui...   \n",
       "\n",
       "                                       Combined_Text  \\\n",
       "0  Gulf Pioneers Trading Company Medium Company S...   \n",
       "1  Ratel Al Sharq Contracting Company Small Compa...   \n",
       "2  Bunoon Wa Funoon Contracting Co. Small Company...   \n",
       "3  Al-Wessam Contracting Company Small Company Si...   \n",
       "4  TAKWEEN AND CONSTRUCTION Very Small Company Si...   \n",
       "\n",
       "                                           embedding  \n",
       "0  [0.04954048991203308, 0.03295160084962845, 0.0...  \n",
       "1  [0.0501224510371685, 0.037430986762046814, -0....  \n",
       "2  [0.12054764479398727, 0.0346849262714386, 0.08...  \n",
       "3  [-0.02744017168879509, -0.03267991170287132, 0...  \n",
       "4  [0.04318187013268471, -0.059580229222774506, 0...  "
      ]
     },
     "execution_count": 10,
     "metadata": {},
     "output_type": "execute_result"
    }
   ],
   "source": [
    "df.head()"
   ]
  },
  {
   "cell_type": "markdown",
   "metadata": {},
   "source": [
    "## Store data in Qdrant"
   ]
  },
  {
   "cell_type": "code",
   "execution_count": 11,
   "metadata": {},
   "outputs": [
    {
     "name": "stderr",
     "output_type": "stream",
     "text": [
      "/var/folders/8j/m_1dsv_x5dlf53pndg9t48680000gn/T/ipykernel_18442/3271033850.py:2: DeprecationWarning: `recreate_collection` method is deprecated and will be removed in the future. Use `collection_exists` to check collection existence and `create_collection` instead.\n",
      "  client.recreate_collection(\n"
     ]
    },
    {
     "name": "stdout",
     "output_type": "stream",
     "text": [
      "Embeddings uploaded successfully!\n"
     ]
    }
   ],
   "source": [
    "# Create a new collection in Qdrant\n",
    "client.recreate_collection(\n",
    "    collection_name=\"contractors\",\n",
    "    vectors_config=VectorParams(\n",
    "        size=384,\n",
    "        distance=Distance.COSINE\n",
    "    )\n",
    ")\n",
    "\n",
    "#Preparing points to upload to Qdrant\n",
    "points = [\n",
    "    PointStruct(\n",
    "        id=i,\n",
    "        vector=row['embedding'],\n",
    "        payload={\n",
    "            \"Company Name\": row[\"Company Name\"],\n",
    "            \"Company Size\": row[\"Company Size\"],\n",
    "            \"Interests\": row[\"Interests\"],\n",
    "            \"City\": row[\"City\"],\n",
    "            \"Address\": row[\"Address\"],\n",
    "        }\n",
    "    )\n",
    "    for i, row in df.iterrows()\n",
    "]\n",
    "\n",
    "# Upload points to Qdrant\n",
    "client.upsert(collection_name=\"contractors\", points=points)\n",
    "\n",
    "print(\"Embeddings uploaded successfully!\")\n"
   ]
  },
  {
   "cell_type": "code",
   "execution_count": 12,
   "metadata": {},
   "outputs": [
    {
     "name": "stdout",
     "output_type": "stream",
     "text": [
      "<class 'list'>\n"
     ]
    }
   ],
   "source": [
    "print(type(df['embedding'].iloc[0]))\n"
   ]
  }
 ],
 "metadata": {
  "kernelspec": {
   "display_name": "lewagon",
   "language": "python",
   "name": "python3"
  },
  "language_info": {
   "codemirror_mode": {
    "name": "ipython",
    "version": 3
   },
   "file_extension": ".py",
   "mimetype": "text/x-python",
   "name": "python",
   "nbconvert_exporter": "python",
   "pygments_lexer": "ipython3",
   "version": "3.10.6"
  }
 },
 "nbformat": 4,
 "nbformat_minor": 2
}
